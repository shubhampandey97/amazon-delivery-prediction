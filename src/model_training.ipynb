{
 "cells": [
  {
   "cell_type": "code",
   "execution_count": 2,
   "id": "5a2f0b20",
   "metadata": {},
   "outputs": [],
   "source": [
    "import pandas as pd\n",
    "import numpy as np\n",
    "from sklearn.model_selection import train_test_split\n",
    "from sklearn.preprocessing import OneHotEncoder\n",
    "from sklearn.compose import ColumnTransformer\n",
    "from sklearn.pipeline import Pipeline\n",
    "from sklearn.linear_model import LinearRegression\n",
    "from sklearn.ensemble import RandomForestRegressor, GradientBoostingRegressor\n",
    "from sklearn.metrics import mean_squared_error, mean_absolute_error, r2_score\n",
    "import mlflow\n",
    "import mlflow.sklearn\n",
    "import joblib"
   ]
  },
  {
   "cell_type": "code",
   "execution_count": 3,
   "id": "dd71b3ea",
   "metadata": {},
   "outputs": [
    {
     "data": {
      "text/html": [
       "<div>\n",
       "<style scoped>\n",
       "    .dataframe tbody tr th:only-of-type {\n",
       "        vertical-align: middle;\n",
       "    }\n",
       "\n",
       "    .dataframe tbody tr th {\n",
       "        vertical-align: top;\n",
       "    }\n",
       "\n",
       "    .dataframe thead th {\n",
       "        text-align: right;\n",
       "    }\n",
       "</style>\n",
       "<table border=\"1\" class=\"dataframe\">\n",
       "  <thead>\n",
       "    <tr style=\"text-align: right;\">\n",
       "      <th></th>\n",
       "      <th>Order_ID</th>\n",
       "      <th>Agent_Age</th>\n",
       "      <th>Agent_Rating</th>\n",
       "      <th>Store_Latitude</th>\n",
       "      <th>Store_Longitude</th>\n",
       "      <th>Drop_Latitude</th>\n",
       "      <th>Drop_Longitude</th>\n",
       "      <th>Order_Date</th>\n",
       "      <th>Order_Time</th>\n",
       "      <th>Pickup_Time</th>\n",
       "      <th>...</th>\n",
       "      <th>Vehicle</th>\n",
       "      <th>Area</th>\n",
       "      <th>Delivery_Time</th>\n",
       "      <th>Category</th>\n",
       "      <th>Order_DateTime</th>\n",
       "      <th>Pickup_DateTime</th>\n",
       "      <th>Time_To_Pickup</th>\n",
       "      <th>Distance_km</th>\n",
       "      <th>Order_Hour</th>\n",
       "      <th>Order_DayOfWeek</th>\n",
       "    </tr>\n",
       "  </thead>\n",
       "  <tbody>\n",
       "    <tr>\n",
       "      <th>0</th>\n",
       "      <td>ialx566343618</td>\n",
       "      <td>37</td>\n",
       "      <td>4.9</td>\n",
       "      <td>22.745049</td>\n",
       "      <td>75.892471</td>\n",
       "      <td>22.765049</td>\n",
       "      <td>75.912471</td>\n",
       "      <td>2022-03-19</td>\n",
       "      <td>11:30:00</td>\n",
       "      <td>11:45:00</td>\n",
       "      <td>...</td>\n",
       "      <td>motorcycle</td>\n",
       "      <td>Urban</td>\n",
       "      <td>120</td>\n",
       "      <td>Clothing</td>\n",
       "      <td>2022-03-19 11:30:00</td>\n",
       "      <td>2022-03-19 11:45:00</td>\n",
       "      <td>15.0</td>\n",
       "      <td>3.020737</td>\n",
       "      <td>11</td>\n",
       "      <td>5</td>\n",
       "    </tr>\n",
       "    <tr>\n",
       "      <th>1</th>\n",
       "      <td>akqg208421122</td>\n",
       "      <td>34</td>\n",
       "      <td>4.5</td>\n",
       "      <td>12.913041</td>\n",
       "      <td>77.683237</td>\n",
       "      <td>13.043041</td>\n",
       "      <td>77.813237</td>\n",
       "      <td>2022-03-25</td>\n",
       "      <td>19:45:00</td>\n",
       "      <td>19:50:00</td>\n",
       "      <td>...</td>\n",
       "      <td>scooter</td>\n",
       "      <td>Metropolitian</td>\n",
       "      <td>165</td>\n",
       "      <td>Electronics</td>\n",
       "      <td>2022-03-25 19:45:00</td>\n",
       "      <td>2022-03-25 19:50:00</td>\n",
       "      <td>5.0</td>\n",
       "      <td>20.143737</td>\n",
       "      <td>19</td>\n",
       "      <td>4</td>\n",
       "    </tr>\n",
       "    <tr>\n",
       "      <th>2</th>\n",
       "      <td>njpu434582536</td>\n",
       "      <td>23</td>\n",
       "      <td>4.4</td>\n",
       "      <td>12.914264</td>\n",
       "      <td>77.678400</td>\n",
       "      <td>12.924264</td>\n",
       "      <td>77.688400</td>\n",
       "      <td>2022-03-19</td>\n",
       "      <td>08:30:00</td>\n",
       "      <td>08:45:00</td>\n",
       "      <td>...</td>\n",
       "      <td>motorcycle</td>\n",
       "      <td>Urban</td>\n",
       "      <td>130</td>\n",
       "      <td>Sports</td>\n",
       "      <td>2022-03-19 08:30:00</td>\n",
       "      <td>2022-03-19 08:45:00</td>\n",
       "      <td>15.0</td>\n",
       "      <td>1.549693</td>\n",
       "      <td>8</td>\n",
       "      <td>5</td>\n",
       "    </tr>\n",
       "    <tr>\n",
       "      <th>3</th>\n",
       "      <td>rjto796129700</td>\n",
       "      <td>38</td>\n",
       "      <td>4.7</td>\n",
       "      <td>11.003669</td>\n",
       "      <td>76.976494</td>\n",
       "      <td>11.053669</td>\n",
       "      <td>77.026494</td>\n",
       "      <td>2022-04-05</td>\n",
       "      <td>18:00:00</td>\n",
       "      <td>18:10:00</td>\n",
       "      <td>...</td>\n",
       "      <td>motorcycle</td>\n",
       "      <td>Metropolitian</td>\n",
       "      <td>105</td>\n",
       "      <td>Cosmetics</td>\n",
       "      <td>2022-04-05 18:00:00</td>\n",
       "      <td>2022-04-05 18:10:00</td>\n",
       "      <td>10.0</td>\n",
       "      <td>7.774497</td>\n",
       "      <td>18</td>\n",
       "      <td>1</td>\n",
       "    </tr>\n",
       "    <tr>\n",
       "      <th>4</th>\n",
       "      <td>zguw716275638</td>\n",
       "      <td>32</td>\n",
       "      <td>4.6</td>\n",
       "      <td>12.972793</td>\n",
       "      <td>80.249982</td>\n",
       "      <td>13.012793</td>\n",
       "      <td>80.289982</td>\n",
       "      <td>2022-03-26</td>\n",
       "      <td>13:30:00</td>\n",
       "      <td>13:45:00</td>\n",
       "      <td>...</td>\n",
       "      <td>scooter</td>\n",
       "      <td>Metropolitian</td>\n",
       "      <td>150</td>\n",
       "      <td>Toys</td>\n",
       "      <td>2022-03-26 13:30:00</td>\n",
       "      <td>2022-03-26 13:45:00</td>\n",
       "      <td>15.0</td>\n",
       "      <td>6.197898</td>\n",
       "      <td>13</td>\n",
       "      <td>5</td>\n",
       "    </tr>\n",
       "  </tbody>\n",
       "</table>\n",
       "<p>5 rows × 22 columns</p>\n",
       "</div>"
      ],
      "text/plain": [
       "        Order_ID  Agent_Age  Agent_Rating  Store_Latitude  Store_Longitude  \\\n",
       "0  ialx566343618         37           4.9       22.745049        75.892471   \n",
       "1  akqg208421122         34           4.5       12.913041        77.683237   \n",
       "2  njpu434582536         23           4.4       12.914264        77.678400   \n",
       "3  rjto796129700         38           4.7       11.003669        76.976494   \n",
       "4  zguw716275638         32           4.6       12.972793        80.249982   \n",
       "\n",
       "   Drop_Latitude  Drop_Longitude  Order_Date Order_Time Pickup_Time  ...  \\\n",
       "0      22.765049       75.912471  2022-03-19   11:30:00    11:45:00  ...   \n",
       "1      13.043041       77.813237  2022-03-25   19:45:00    19:50:00  ...   \n",
       "2      12.924264       77.688400  2022-03-19   08:30:00    08:45:00  ...   \n",
       "3      11.053669       77.026494  2022-04-05   18:00:00    18:10:00  ...   \n",
       "4      13.012793       80.289982  2022-03-26   13:30:00    13:45:00  ...   \n",
       "\n",
       "       Vehicle            Area Delivery_Time     Category  \\\n",
       "0  motorcycle           Urban            120     Clothing   \n",
       "1     scooter   Metropolitian            165  Electronics   \n",
       "2  motorcycle           Urban            130       Sports   \n",
       "3  motorcycle   Metropolitian            105    Cosmetics   \n",
       "4     scooter   Metropolitian            150         Toys   \n",
       "\n",
       "        Order_DateTime      Pickup_DateTime Time_To_Pickup Distance_km  \\\n",
       "0  2022-03-19 11:30:00  2022-03-19 11:45:00           15.0    3.020737   \n",
       "1  2022-03-25 19:45:00  2022-03-25 19:50:00            5.0   20.143737   \n",
       "2  2022-03-19 08:30:00  2022-03-19 08:45:00           15.0    1.549693   \n",
       "3  2022-04-05 18:00:00  2022-04-05 18:10:00           10.0    7.774497   \n",
       "4  2022-03-26 13:30:00  2022-03-26 13:45:00           15.0    6.197898   \n",
       "\n",
       "   Order_Hour  Order_DayOfWeek  \n",
       "0          11                5  \n",
       "1          19                4  \n",
       "2           8                5  \n",
       "3          18                1  \n",
       "4          13                5  \n",
       "\n",
       "[5 rows x 22 columns]"
      ]
     },
     "execution_count": 3,
     "metadata": {},
     "output_type": "execute_result"
    }
   ],
   "source": [
    "df = pd.read_csv(r\"D:\\Guvi\\Projects\\mini\\Amazon Delivery Time Prediction\\Amazon_delivery_time_prediction\\data\\amazon_delivery_cleaned.csv\")\n",
    "df.head()"
   ]
  },
  {
   "cell_type": "markdown",
   "id": "6ed484d0",
   "metadata": {},
   "source": [
    "### Feature/Target Split"
   ]
  },
  {
   "cell_type": "code",
   "execution_count": 4,
   "id": "bbad45ff",
   "metadata": {},
   "outputs": [],
   "source": [
    "X = df[['Agent_Age', 'Agent_Rating', 'Distance_km', 'Time_To_Pickup', 'Order_Hour', 'Order_DayOfWeek', 'Weather', 'Traffic', 'Vehicle', 'Area', 'Category']]\n",
    "y = df['Delivery_Time']"
   ]
  },
  {
   "cell_type": "markdown",
   "id": "1d23a358",
   "metadata": {},
   "source": [
    "### Preprocessing Pipeline"
   ]
  },
  {
   "cell_type": "code",
   "execution_count": 5,
   "id": "69beb324",
   "metadata": {},
   "outputs": [],
   "source": [
    "# Categorical columns\n",
    "cat_cols = ['Weather', 'Traffic', 'Vehicle', 'Area', 'Category']\n",
    "num_cols = list(set(X.columns) - set(cat_cols))\n",
    "\n",
    "# OneHot encoding for categoricals\n",
    "preprocessor = ColumnTransformer(transformers=[\n",
    "    ('cat', OneHotEncoder(handle_unknown='ignore'), cat_cols)\n",
    "], remainder='passthrough')"
   ]
  },
  {
   "cell_type": "markdown",
   "id": "7393543b",
   "metadata": {},
   "source": [
    "### Train/Test Split"
   ]
  },
  {
   "cell_type": "code",
   "execution_count": 6,
   "id": "532c1dc0",
   "metadata": {},
   "outputs": [],
   "source": [
    "X_train, X_test, y_train, y_test = train_test_split(X, y, test_size=0.2, random_state=42)"
   ]
  },
  {
   "cell_type": "markdown",
   "id": "1c11c86e",
   "metadata": {},
   "source": [
    "### Define Evaluation Function"
   ]
  },
  {
   "cell_type": "code",
   "execution_count": 7,
   "id": "1848dc4b",
   "metadata": {},
   "outputs": [],
   "source": [
    "def eval_metrics(actual, pred):\n",
    "    rmse = np.sqrt(mean_squared_error(actual, pred))\n",
    "    mae = mean_absolute_error(actual, pred)\n",
    "    r2 = r2_score(actual, pred)\n",
    "    return rmse, mae, r2"
   ]
  },
  {
   "cell_type": "markdown",
   "id": "a49a0601",
   "metadata": {},
   "source": [
    "### Train Models with MLflow Logging"
   ]
  },
  {
   "cell_type": "code",
   "execution_count": 8,
   "id": "3685e3cb",
   "metadata": {},
   "outputs": [
    {
     "name": "stderr",
     "output_type": "stream",
     "text": [
      "2025/07/03 19:09:56 WARNING mlflow.models.model: `artifact_path` is deprecated. Please use `name` instead.\n",
      "2025/07/03 19:10:01 WARNING mlflow.models.model: Model logged without a signature and input example. Please set `input_example` parameter when logging the model to auto infer the model signature.\n"
     ]
    },
    {
     "name": "stdout",
     "output_type": "stream",
     "text": [
      "LinearRegression:\n",
      "  RMSE=33.15, MAE=26.22, R²=0.58\n",
      "\n"
     ]
    },
    {
     "name": "stderr",
     "output_type": "stream",
     "text": [
      "2025/07/03 19:14:45 WARNING mlflow.models.model: `artifact_path` is deprecated. Please use `name` instead.\n",
      "2025/07/03 19:14:50 WARNING mlflow.models.model: Model logged without a signature and input example. Please set `input_example` parameter when logging the model to auto infer the model signature.\n"
     ]
    },
    {
     "name": "stdout",
     "output_type": "stream",
     "text": [
      "RandomForest:\n",
      "  RMSE=22.71, MAE=17.41, R²=0.80\n",
      "\n"
     ]
    },
    {
     "name": "stderr",
     "output_type": "stream",
     "text": [
      "2025/07/03 19:14:56 WARNING mlflow.models.model: `artifact_path` is deprecated. Please use `name` instead.\n",
      "2025/07/03 19:15:01 WARNING mlflow.models.model: Model logged without a signature and input example. Please set `input_example` parameter when logging the model to auto infer the model signature.\n"
     ]
    },
    {
     "name": "stdout",
     "output_type": "stream",
     "text": [
      "GradientBoosting:\n",
      "  RMSE=24.58, MAE=19.04, R²=0.77\n",
      "\n"
     ]
    }
   ],
   "source": [
    "models = {\n",
    "    \"LinearRegression\": LinearRegression(),\n",
    "    \"RandomForest\": RandomForestRegressor(n_estimators=100, random_state=42),\n",
    "    \"GradientBoosting\": GradientBoostingRegressor(n_estimators=100, learning_rate=0.1, random_state=42)\n",
    "}\n",
    "\n",
    "mlflow.set_experiment(\"amazon_delivery_prediction\")\n",
    "\n",
    "for name, model in models.items():\n",
    "    with mlflow.start_run(run_name=name):\n",
    "        pipe = Pipeline(steps=[\n",
    "            ('preprocess', preprocessor),\n",
    "            ('model', model)\n",
    "        ])\n",
    "\n",
    "        pipe.fit(X_train, y_train)\n",
    "        preds = pipe.predict(X_test)\n",
    "        rmse, mae, r2 = eval_metrics(y_test, preds)\n",
    "\n",
    "        mlflow.log_param(\"model_type\", name)\n",
    "        mlflow.log_metric(\"rmse\", rmse)\n",
    "        mlflow.log_metric(\"mae\", mae)\n",
    "        mlflow.log_metric(\"r2\", r2)\n",
    "        mlflow.sklearn.log_model(pipe, \"model\")\n",
    "\n",
    "        print(f\"{name}:\\n  RMSE={rmse:.2f}, MAE={mae:.2f}, R²={r2:.2f}\\n\")"
   ]
  },
  {
   "cell_type": "markdown",
   "id": "063fd288",
   "metadata": {},
   "source": [
    "### Save Best Model (Manually Pick or Based on R²)"
   ]
  },
  {
   "cell_type": "code",
   "execution_count": 8,
   "id": "8aaf59c2",
   "metadata": {},
   "outputs": [
    {
     "name": "stdout",
     "output_type": "stream",
     "text": [
      "✅ Best model saved as 'best_model.pkl'\n"
     ]
    }
   ],
   "source": [
    "# Save best model to disk manually, assuming GradientBoosting performed best\n",
    "best_model = Pipeline(steps=[\n",
    "    ('preprocess', preprocessor),\n",
    "    ('model', GradientBoostingRegressor(n_estimators=100, learning_rate=0.1, random_state=42))\n",
    "])\n",
    "best_model.fit(X, y)\n",
    "joblib.dump(best_model, r\"D:\\Guvi\\Projects\\mini\\Amazon Delivery Time Prediction\\Amazon_delivery_time_prediction\\models/best_model.pkl\")\n",
    "print(\"✅ Best model saved as 'best_model.pkl'\")\n"
   ]
  },
  {
   "cell_type": "code",
   "execution_count": 9,
   "id": "ee5a4b80",
   "metadata": {},
   "outputs": [],
   "source": [
    "import joblib"
   ]
  },
  {
   "cell_type": "markdown",
   "id": "942cc664",
   "metadata": {},
   "source": [
    "### Save Linear Regression Model"
   ]
  },
  {
   "cell_type": "code",
   "execution_count": null,
   "id": "628e52d3",
   "metadata": {},
   "outputs": [
    {
     "name": "stdout",
     "output_type": "stream",
     "text": [
      "✅ Linear Regression model saved as 'linear_regression_model.pkl'\n"
     ]
    }
   ],
   "source": [
    "cat_cols = ['Weather', 'Traffic', 'Vehicle', 'Area', 'Category']\n",
    "preprocessor = ColumnTransformer(transformers=[\n",
    "    ('cat', OneHotEncoder(handle_unknown='ignore'), cat_cols)\n",
    "], remainder='passthrough')\n",
    "\n",
    "# Define Linear Regression pipeline\n",
    "linear_pipe = Pipeline(steps=[\n",
    "    ('preprocess', preprocessor),\n",
    "    ('model', LinearRegression())\n",
    "])\n",
    "\n",
    "# Fit on full dataset\n",
    "linear_pipe.fit(X, y)\n",
    "\n",
    "# Save model\n",
    "joblib.dump(linear_pipe, r'D:\\Guvi\\Projects\\mini\\Amazon Delivery Time Prediction\\Amazon_delivery_time_prediction\\models/linear_regression_model.pkl')\n",
    "print(\"✅ Linear Regression model saved as 'linear_regression_model.pkl'\")"
   ]
  },
  {
   "cell_type": "markdown",
   "id": "e9b61f9b",
   "metadata": {},
   "source": [
    "### Save Random Forest Model"
   ]
  },
  {
   "cell_type": "code",
   "execution_count": 12,
   "id": "cfda3287",
   "metadata": {},
   "outputs": [
    {
     "name": "stdout",
     "output_type": "stream",
     "text": [
      "✅ Random Forest model saved to models/random_forest_model.pkl\n"
     ]
    }
   ],
   "source": [
    "# Random Forest Model\n",
    "rf_model = RandomForestRegressor(n_estimators=100, random_state=42)\n",
    "\n",
    "# Create pipeline\n",
    "pipeline = Pipeline(steps=[\n",
    "    ('preprocessor', preprocessor),\n",
    "    ('model', rf_model)\n",
    "])\n",
    "\n",
    "# Fit on full data\n",
    "pipeline.fit(X, y)\n",
    "\n",
    "# Save model\n",
    "joblib.dump(pipeline, r\"D:\\Guvi\\Projects\\mini\\Amazon Delivery Time Prediction\\Amazon_delivery_time_prediction\\models/random_forest_model.pkl\")\n",
    "print(\"✅ Random Forest model saved to models/random_forest_model.pkl\")"
   ]
  },
  {
   "cell_type": "markdown",
   "id": "0886de70",
   "metadata": {},
   "source": [
    "### Save Gradient Boosting model"
   ]
  },
  {
   "cell_type": "code",
   "execution_count": 11,
   "id": "8f490fd6",
   "metadata": {},
   "outputs": [
    {
     "name": "stdout",
     "output_type": "stream",
     "text": [
      "✅ Gradient Boosting model saved to models/gradient_boosting_model.pkl\n"
     ]
    }
   ],
   "source": [
    "# Gradient Boosting model\n",
    "gb_model = GradientBoostingRegressor(n_estimators=100, learning_rate=0.1, random_state=42)\n",
    "\n",
    "# Pipeline\n",
    "pipeline = Pipeline(steps=[\n",
    "    ('preprocessor', preprocessor),\n",
    "    ('model', gb_model)\n",
    "])\n",
    "\n",
    "# Fit the model\n",
    "pipeline.fit(X, y)\n",
    "\n",
    "# Save the model\n",
    "joblib.dump(pipeline, r\"D:\\Guvi\\Projects\\mini\\Amazon Delivery Time Prediction\\Amazon_delivery_time_prediction\\models/gradient_boosting_model.pkl\")\n",
    "print(\"✅ Gradient Boosting model saved to models/gradient_boosting_model.pkl\")"
   ]
  },
  {
   "cell_type": "code",
   "execution_count": null,
   "id": "6823bf59",
   "metadata": {},
   "outputs": [],
   "source": []
  }
 ],
 "metadata": {
  "kernelspec": {
   "display_name": "base",
   "language": "python",
   "name": "python3"
  },
  "language_info": {
   "codemirror_mode": {
    "name": "ipython",
    "version": 3
   },
   "file_extension": ".py",
   "mimetype": "text/x-python",
   "name": "python",
   "nbconvert_exporter": "python",
   "pygments_lexer": "ipython3",
   "version": "3.11.5"
  }
 },
 "nbformat": 4,
 "nbformat_minor": 5
}
